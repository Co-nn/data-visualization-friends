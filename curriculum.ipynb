{
 "cells": [
  {
   "cell_type": "markdown",
   "id": "c39dca54",
   "metadata": {
    "index": 0,
    "solution": false
   },
   "source": [
    "# 📒 Data Visualization - Code Out\n",
    "\n",
    "This notebook contains **11 tasks** centered around **data visualization** using **matplotlib**📊. \n",
    "\n",
    "Within the instructions, a saved image of the visualization is displayed. **Your goal is to create a visualization that mirrors the displayed image.**\n",
    "> *Please note:* When developing data visualizations, there are frequently judgment calls that must be made about about a number of visual settings. The provided tests in this notebook will assess many of the matplotlib settings that were used to generate the displayed visualization, but not every setting is tested. **For this notebook, and any future assessments, you should be sure to meet the required instructions *exactly*.** Outside of those settings you are free to customize your visualizations however you feel is best.\n",
    "\n",
    "This notebook requires you use `plt.subplots` and that you assign matplotlib figure and axis variables to specific variable names.\n",
    "\n",
    "**For example:**\n",
    "\n",
    "Given the following prompt:\n",
    "\n",
    "\n",
    "\n",
    ">➡️**name the figure variable `plot_first_fig`**\n",
    "\n",
    ">➡️ **name the axis variable `plot_first_ax`.**\n",
    "\n",
    "\n",
    "The correct code would be as followed:\n",
    "\n",
    "```python\n",
    "plot_first_fig, plot_first_ax = plt.subplots()\n",
    "```"
   ]
  },
  {
   "cell_type": "markdown",
   "id": "5fef04a1",
   "metadata": {
    "ExecuteTime": {
     "end_time": "2021-05-31T23:21:45.541649Z",
     "start_time": "2021-05-31T23:21:45.539654Z"
    },
    "index": 1,
    "solution": false
   },
   "source": [
    "## Task 1 - Import pandas using the standard alias."
   ]
  },
  {
   "cell_type": "code",
   "execution_count": null,
   "id": "c879f64d",
   "metadata": {
    "ExecuteTime": {
     "end_time": "2021-06-01T05:55:19.472128Z",
     "start_time": "2021-06-01T05:55:19.469806Z"
    },
    "index": 2,
    "solution": false
   },
   "outputs": [],
   "source": [
    "# Your code here"
   ]
  },
  {
   "cell_type": "code",
   "execution_count": 1,
   "id": "18d97779",
   "metadata": {
    "ExecuteTime": {
     "end_time": "2021-06-01T05:55:19.949344Z",
     "start_time": "2021-06-01T05:55:19.473760Z"
    },
    "execution": {
     "iopub.execute_input": "2021-11-10T20:42:48.471641Z",
     "iopub.status.busy": "2021-11-10T20:42:48.470734Z",
     "iopub.status.idle": "2021-11-10T20:42:49.086147Z",
     "shell.execute_reply": "2021-11-10T20:42:49.086589Z"
    },
    "index": 3,
    "solution": true
   },
   "outputs": [],
   "source": [
    "#==SOLUTION==\n",
    "import pandas as pd"
   ]
  },
  {
   "cell_type": "markdown",
   "id": "9135614c",
   "metadata": {
    "index": 4,
    "solution": false
   },
   "source": [
    "## Task 2 - Import the pyplot module from matplotlib using the standard `plt` alias."
   ]
  },
  {
   "cell_type": "code",
   "execution_count": null,
   "id": "b575b82a",
   "metadata": {
    "ExecuteTime": {
     "end_time": "2021-06-01T05:55:19.952943Z",
     "start_time": "2021-06-01T05:55:19.950868Z"
    },
    "index": 5,
    "solution": false
   },
   "outputs": [],
   "source": [
    "# Your code here"
   ]
  },
  {
   "cell_type": "code",
   "execution_count": 2,
   "id": "d9f363bd",
   "metadata": {
    "ExecuteTime": {
     "end_time": "2021-06-01T05:55:20.131751Z",
     "start_time": "2021-06-01T05:55:19.954379Z"
    },
    "execution": {
     "iopub.execute_input": "2021-11-10T20:42:49.090625Z",
     "iopub.status.busy": "2021-11-10T20:42:49.090072Z",
     "iopub.status.idle": "2021-11-10T20:42:49.469031Z",
     "shell.execute_reply": "2021-11-10T20:42:49.469452Z"
    },
    "index": 6,
    "solution": true
   },
   "outputs": [],
   "source": [
    "#==SOLUTION==\n",
    "import matplotlib.pyplot as plt"
   ]
  },
  {
   "cell_type": "markdown",
   "id": "892ff1b7",
   "metadata": {
    "index": 7,
    "solution": false
   },
   "source": [
    "## Task 3 - Load a csv file\n",
    "\n",
    "A dataset called `friends_info.csv` containing information about the tv show [Friends](https://en.wikipedia.org/wiki/Friends) is saved inside the `data/` folder of this repository.\n",
    "\n",
    "In the cell below:\n",
    "- import the `friends_info` dataset using pandas\n",
    "- save the resulting pandas dataframe to the variable `df`."
   ]
  },
  {
   "cell_type": "code",
   "execution_count": null,
   "id": "7be21e82",
   "metadata": {
    "ExecuteTime": {
     "end_time": "2021-06-01T05:55:20.134704Z",
     "start_time": "2021-06-01T05:55:20.132940Z"
    },
    "index": 8,
    "solution": false
   },
   "outputs": [],
   "source": [
    "# Your code here"
   ]
  },
  {
   "cell_type": "code",
   "execution_count": 3,
   "id": "852034a2",
   "metadata": {
    "ExecuteTime": {
     "end_time": "2021-06-01T05:55:20.142735Z",
     "start_time": "2021-06-01T05:55:20.136699Z"
    },
    "execution": {
     "iopub.execute_input": "2021-11-10T20:42:49.473909Z",
     "iopub.status.busy": "2021-11-10T20:42:49.473361Z",
     "iopub.status.idle": "2021-11-10T20:42:49.481261Z",
     "shell.execute_reply": "2021-11-10T20:42:49.481702Z"
    },
    "index": 9,
    "solution": true
   },
   "outputs": [],
   "source": [
    "#==SOLUTION==\n",
    "df = pd.read_csv('data/friends_info.csv')"
   ]
  },
  {
   "cell_type": "markdown",
   "id": "b7b665d9",
   "metadata": {
    "index": 10,
    "solution": false
   },
   "source": [
    "## Task 4 - Drop all rows that contain null values"
   ]
  },
  {
   "cell_type": "code",
   "execution_count": null,
   "id": "1cf4ff59",
   "metadata": {
    "ExecuteTime": {
     "end_time": "2021-06-01T05:55:20.146703Z",
     "start_time": "2021-06-01T05:55:20.144801Z"
    },
    "index": 11,
    "solution": false
   },
   "outputs": [],
   "source": [
    "# Your code here"
   ]
  },
  {
   "cell_type": "code",
   "execution_count": 4,
   "id": "8108efa0",
   "metadata": {
    "ExecuteTime": {
     "end_time": "2021-06-01T05:55:20.156966Z",
     "start_time": "2021-06-01T05:55:20.148013Z"
    },
    "execution": {
     "iopub.execute_input": "2021-11-10T20:42:49.487990Z",
     "iopub.status.busy": "2021-11-10T20:42:49.487331Z",
     "iopub.status.idle": "2021-11-10T20:42:49.489074Z",
     "shell.execute_reply": "2021-11-10T20:42:49.489451Z"
    },
    "index": 12,
    "solution": true
   },
   "outputs": [],
   "source": [
    "#==SOLUTION==\n",
    "df.dropna(inplace=True)"
   ]
  },
  {
   "cell_type": "markdown",
   "id": "0636d4e3",
   "metadata": {
    "index": 13,
    "solution": false
   },
   "source": [
    "## Task 5 - Using `plt.subplots` create a bar plot that visualizes the total number of episodes produced for each season. \n",
    "\n",
    "➡️ **name the figure variable `plot_one_fig`**\n",
    "\n",
    "➡️ **name the axis variable `plot_one_ax`.**\n",
    "\n",
    "\n",
    "This visualization should include the following customizations:\n",
    "1. A figsize of (15, 6)\n",
    "2. A title set to `'Episodes per Season'` with a fontsize of 30.\n",
    "3. xtick labels with a fontsize of 20.\n",
    "4. An xaxis label set to `'Season'` with a fontsize of 15.\n",
    "5. A yaxis label set to `'Episode Count'` with a fontsize of 15.\n",
    "\n",
    "\n",
    "**Below is an example of what your visualization should look like:**\n",
    "\n",
    "![](static/episodes_per_season.png)"
   ]
  },
  {
   "cell_type": "code",
   "execution_count": null,
   "id": "2020cf9b",
   "metadata": {
    "ExecuteTime": {
     "end_time": "2021-06-01T05:55:20.159851Z",
     "start_time": "2021-06-01T05:55:20.158060Z"
    },
    "index": 14,
    "solution": false
   },
   "outputs": [],
   "source": [
    "# Your code here"
   ]
  },
  {
   "cell_type": "code",
   "execution_count": 5,
   "id": "f35cf1e6",
   "metadata": {
    "ExecuteTime": {
     "end_time": "2021-06-01T05:55:20.341005Z",
     "start_time": "2021-06-01T05:55:20.161474Z"
    },
    "code_folding": [],
    "execution": {
     "iopub.execute_input": "2021-11-10T20:42:49.516238Z",
     "iopub.status.busy": "2021-11-10T20:42:49.515696Z",
     "iopub.status.idle": "2021-11-10T20:42:49.676083Z",
     "shell.execute_reply": "2021-11-10T20:42:49.676444Z"
    },
    "index": 15,
    "solution": true
   },
   "outputs": [
    {
     "name": "stderr",
     "output_type": "stream",
     "text": [
      "/var/folders/js/czdv1g1d4877gnqnxm3b1y4m0000gn/T/ipykernel_30008/3056951045.py:9: UserWarning: FixedFormatter should only be used together with FixedLocator\n",
      "  plot_one_ax.set_xticklabels([tick for tick in x], size=20)\n"
     ]
    },
    {
     "data": {
      "image/png": "[encoded data removed]",
      "text/plain": [
       "<Figure size 1080x432 with 1 Axes>"
      ]
     },
     "metadata": {
      "needs_background": "light"
     },
     "output_type": "display_data"
    }
   ],
   "source": [
    "#==SOLUTION==\n",
    "season_counts = df.Season.value_counts()\n",
    "x = season_counts.index.astype(str)\n",
    "y = season_counts.values\n",
    "\n",
    "\n",
    "plot_one_fig, plot_one_ax = plt.subplots(figsize=(15,6))\n",
    "plot_one_ax.bar(x, y)\n",
    "plot_one_ax.set_title('Episodes per Season', size=30)\n",
    "plot_one_ax.set_xticklabels([tick for tick in x], size=20)\n",
    "plot_one_ax.set_xlabel('Season', size=15)\n",
    "plot_one_ax.set_ylabel('Episode Count', size=15)\n",
    "plot_one_fig.savefig('static/episodes_per_season.png')"
   ]
  },
  {
   "cell_type": "markdown",
   "id": "6a7883f9",
   "metadata": {
    "index": 16,
    "solution": false
   },
   "source": [
    "## Task 6 - Using `plt.subplots` visualize the number of episodes produced by the ten most frequent directors.\n",
    "\n",
    "➡️ **name the figure variable `plot_two_fig`**\n",
    "\n",
    "➡️ **name the axis variable `plot_two_ax`.**\n",
    "\n",
    "This visualization should include the following customizations:\n",
    "\n",
    "1. A title set to `'Top Ten Directors - Frequency'` with a fontsize of 35.\n",
    "2. An xlabel set to `'Directors'` with a fontsize of 15.\n",
    "3. A ylabel set to `'Number of films directed'` with a fontsize of 15.\n",
    "4. For each xtick label, the spaces `' '` should replace with `'\\n'`.\n",
    "\n",
    "**Below is an example of what your visualization should look like:**\n",
    "\n",
    "![](static/director_frequency.png)"
   ]
  },
  {
   "cell_type": "code",
   "execution_count": null,
   "id": "282b668c",
   "metadata": {
    "ExecuteTime": {
     "end_time": "2021-06-01T05:55:20.361459Z",
     "start_time": "2021-06-01T05:55:20.359535Z"
    },
    "index": 17,
    "solution": false
   },
   "outputs": [],
   "source": [
    "# Your code here"
   ]
  },
  {
   "cell_type": "code",
   "execution_count": 6,
   "id": "065a1f38",
   "metadata": {
    "ExecuteTime": {
     "end_time": "2021-06-01T05:55:20.605502Z",
     "start_time": "2021-06-01T05:55:20.362598Z"
    },
    "code_folding": [],
    "execution": {
     "iopub.execute_input": "2021-11-10T20:42:49.688561Z",
     "iopub.status.busy": "2021-11-10T20:42:49.686720Z",
     "iopub.status.idle": "2021-11-10T20:42:49.880742Z",
     "shell.execute_reply": "2021-11-10T20:42:49.881281Z"
    },
    "index": 18,
    "solution": true
   },
   "outputs": [
    {
     "name": "stderr",
     "output_type": "stream",
     "text": [
      "/var/folders/js/czdv1g1d4877gnqnxm3b1y4m0000gn/T/ipykernel_30008/3481402958.py:7: UserWarning: FixedFormatter should only be used together with FixedLocator\n",
      "  plot_two_ax.set_xticklabels([tick.replace(' ', '\\n') for tick in x], size=20)\n"
     ]
    },
    {
     "data": {
      "image/png": "[encoded data removed]",
      "text/plain": [
       "<Figure size 1440x432 with 1 Axes>"
      ]
     },
     "metadata": {
      "needs_background": "light"
     },
     "output_type": "display_data"
    }
   ],
   "source": [
    "#==SOLUTION==\n",
    "director_counts = df['Directed By'].value_counts()[:10]\n",
    "x = director_counts.index\n",
    "y = director_counts.values\n",
    "\n",
    "plot_two_fig, plot_two_ax = plt.subplots(figsize=(20,6))\n",
    "plot_two_ax.bar(x, y)\n",
    "plot_two_ax.set_xticklabels([tick.replace(' ', '\\n') for tick in x], size=20)\n",
    "plot_two_ax.set_title('Top Ten Directors - Frequency', size=35)\n",
    "plot_two_ax.set_xlabel('Directors', size=15)\n",
    "plot_two_ax.set_ylabel('Number of films directed', size=15)\n",
    "plot_two_fig.savefig('static/director_frequency.png')\n",
    "plt.show()"
   ]
  },
  {
   "cell_type": "markdown",
   "id": "45efabde",
   "metadata": {
    "index": 19,
    "solution": false
   },
   "source": [
    "## Task 7 - Plot a histogram for the `Rating` column.\n",
    "\n",
    "➡️ **name the figure variable `plot_three_fig`**\n",
    "\n",
    "➡️ **name the axis variable `plot_three_ax`.**\n",
    "\n",
    "This visualization should include the following customizations:\n",
    "1. The figsize should be set to (10,5)\n",
    "2. The title should be set to `'Episode Ratings - Distribution'`\n",
    "3. The xlabel should be set to `'Rating'`\n",
    "4. The ylabel should be set to `'Frequency'`\n",
    "5. The color should be set to `'red'`\n",
    "6. The alpha should be set to `.6`\n",
    "\n",
    "Below is an example of what your visualization should look like:\n",
    "\n",
    "![](static/ratings_distribution.png)"
   ]
  },
  {
   "cell_type": "code",
   "execution_count": null,
   "id": "53093a25",
   "metadata": {
    "ExecuteTime": {
     "end_time": "2021-06-01T05:55:20.761970Z",
     "start_time": "2021-06-01T05:55:20.626275Z"
    },
    "index": 20,
    "solution": false
   },
   "outputs": [],
   "source": [
    "# Your code here"
   ]
  },
  {
   "cell_type": "code",
   "execution_count": 7,
   "id": "5729aadc",
   "metadata": {
    "ExecuteTime": {
     "end_time": "2021-06-01T05:55:20.959381Z",
     "start_time": "2021-06-01T05:55:20.763531Z"
    },
    "code_folding": [],
    "execution": {
     "iopub.execute_input": "2021-11-10T20:42:49.913654Z",
     "iopub.status.busy": "2021-11-10T20:42:49.889764Z",
     "iopub.status.idle": "2021-11-10T20:42:50.053619Z",
     "shell.execute_reply": "2021-11-10T20:42:50.053995Z"
    },
    "index": 21,
    "solution": true
   },
   "outputs": [
    {
     "data": {
      "image/png": "[encoded data removed]",
      "text/plain": [
       "<Figure size 720x360 with 1 Axes>"
      ]
     },
     "metadata": {
      "needs_background": "light"
     },
     "output_type": "display_data"
    }
   ],
   "source": [
    "#==SOLUTION==\n",
    "\n",
    "# Isolate the data\n",
    "x = df.Rating\n",
    "\n",
    "# Create the fig, ax objects\n",
    "plot_three_fig, plot_three_ax = plt.subplots(figsize=(10,5))\n",
    "\n",
    "# Plot the data\n",
    "plot_three_ax.hist(x, color='red', alpha = .6)\n",
    "\n",
    "# title\n",
    "plot_three_ax.set_title('Episode Ratings - Distribution')\n",
    "\n",
    "# xlabel\n",
    "plot_three_ax.set_xlabel('Rating')\n",
    "\n",
    "# ylabel\n",
    "plot_three_ax.set_ylabel('Frequency')\n",
    "\n",
    "# Save the visualization\n",
    "plt.savefig('static/ratings_distribution.png')"
   ]
  },
  {
   "cell_type": "markdown",
   "id": "45b96177",
   "metadata": {
    "index": 22,
    "solution": false
   },
   "source": [
    "## Task 8 - Visualize the average episode duration per year. \n",
    "> Because this is a time based visualization, a line plot is typically best.\n",
    "\n",
    "➡️ **name the figure variable `plot_four_fig`**\n",
    "\n",
    "➡️ **name the axis variable `plot_four_ax`.**\n",
    "\n",
    "This visualization should include the following customizations:\n",
    "1. The linewidth should be set to `5`.\n",
    "2. The linestyle should be set to `--`.\n",
    "3. The color should be set to `'green'`.\n",
    "4. The title should be set to `'Average Duration - Per Year'`\n",
    "5. The xlabel should be set to `'Year'`.\n",
    "6. The ylabel should be set to `'Average Duration'`\n",
    "\n",
    "**Hint:** You will need to use a groupby for this problem!\n",
    "\n",
    "Below is an example of what your visualization should look like:\n",
    "\n",
    " \n",
    "![](static/yearly_duration.png)"
   ]
  },
  {
   "cell_type": "code",
   "execution_count": null,
   "id": "061beb54",
   "metadata": {
    "ExecuteTime": {
     "end_time": "2021-06-01T05:55:20.984766Z",
     "start_time": "2021-06-01T05:55:20.982544Z"
    },
    "index": 23,
    "solution": false
   },
   "outputs": [],
   "source": [
    "# Your code here"
   ]
  },
  {
   "cell_type": "code",
   "execution_count": 8,
   "id": "6b554a1b",
   "metadata": {
    "ExecuteTime": {
     "end_time": "2021-06-01T15:06:03.234532Z",
     "start_time": "2021-06-01T15:06:03.075156Z"
    },
    "execution": {
     "iopub.execute_input": "2021-11-10T20:42:50.108875Z",
     "iopub.status.busy": "2021-11-10T20:42:50.103880Z",
     "iopub.status.idle": "2021-11-10T20:42:50.236276Z",
     "shell.execute_reply": "2021-11-10T20:42:50.236684Z"
    },
    "index": 24,
    "solution": true
   },
   "outputs": [
    {
     "data": {
      "image/png": "[encoded data removed]",
      "text/plain": [
       "<Figure size 1080x288 with 1 Axes>"
      ]
     },
     "metadata": {
      "needs_background": "light"
     },
     "output_type": "display_data"
    }
   ],
   "source": [
    "#==SOLUTION==\n",
    "plot_four_fig, plot_four_ax = plt.subplots(figsize=(15,4))\n",
    "\n",
    "duration = df.groupby('Year').mean()['Duration']\n",
    "\n",
    "x = duration.index\n",
    "y = duration.values\n",
    "\n",
    "plot_four_ax.plot(x, y, linewidth=5, linestyle='--', color='green')\n",
    "plot_four_ax.grid()\n",
    "plot_four_ax.set_title('Average Duration - Per Year', fontsize=20)\n",
    "plot_four_ax.set_xlabel('Year', fontsize=15)\n",
    "plot_four_ax.set_ylabel('Average Duration', fontsize=15)\n",
    "plot_four_fig.savefig('static/yearly_duration.png')"
   ]
  },
  {
   "cell_type": "markdown",
   "id": "0e8869ab",
   "metadata": {
    "index": 25,
    "solution": false
   },
   "source": [
    "## Task 9 - Import Seaborn using the standard `sns` alias."
   ]
  },
  {
   "cell_type": "code",
   "execution_count": null,
   "id": "3378b7a4",
   "metadata": {
    "ExecuteTime": {
     "end_time": "2021-06-01T05:55:21.154953Z",
     "start_time": "2021-06-01T05:55:21.153120Z"
    },
    "index": 26,
    "solution": false
   },
   "outputs": [],
   "source": [
    "# Your code here"
   ]
  },
  {
   "cell_type": "code",
   "execution_count": 9,
   "id": "5547daf5",
   "metadata": {
    "ExecuteTime": {
     "end_time": "2021-06-01T05:55:21.414655Z",
     "start_time": "2021-06-01T05:55:21.156157Z"
    },
    "execution": {
     "iopub.execute_input": "2021-11-10T20:42:50.240712Z",
     "iopub.status.busy": "2021-11-10T20:42:50.240072Z",
     "iopub.status.idle": "2021-11-10T20:42:50.899013Z",
     "shell.execute_reply": "2021-11-10T20:42:50.898534Z"
    },
    "index": 27,
    "solution": true
   },
   "outputs": [],
   "source": [
    "#==SOLUTION==\n",
    "import seaborn as sns"
   ]
  },
  {
   "cell_type": "markdown",
   "id": "d68e15b9",
   "metadata": {
    "index": 28,
    "solution": false
   },
   "source": [
    "## Task 10 - Using seaborn's [`boxplot`](https://seaborn.pydata.org/generated/seaborn.boxplot.html), visualize the box plots for each season's Duration. \n",
    "\n",
    "➡️ **name the figure variable `plot_five_fig`**\n",
    "\n",
    "➡️ **name the axis variable `plot_five_ax`.**\n",
    "\n",
    "The visualization should have the following customizations:\n",
    "1. A title set to `'Episode Duration - Grouped by Season'`\n",
    "2. An xlabel set to `'Season'`\n",
    "3. A ylabel set to `'Rating'`\n",
    "\n",
    "Below is an example of what your visualization should look like:\n",
    "\n",
    "![](static/season_duration_boxplot.png)"
   ]
  },
  {
   "cell_type": "code",
   "execution_count": null,
   "id": "e38b7dbb",
   "metadata": {
    "ExecuteTime": {
     "end_time": "2021-06-01T05:55:21.417555Z",
     "start_time": "2021-06-01T05:55:21.415860Z"
    },
    "index": 29,
    "solution": false
   },
   "outputs": [],
   "source": [
    "# Your code here"
   ]
  },
  {
   "cell_type": "code",
   "execution_count": 10,
   "id": "fed1dcb7",
   "metadata": {
    "ExecuteTime": {
     "end_time": "2021-06-01T15:09:01.782423Z",
     "start_time": "2021-06-01T15:09:01.544076Z"
    },
    "execution": {
     "iopub.execute_input": "2021-11-10T20:42:50.919787Z",
     "iopub.status.busy": "2021-11-10T20:42:50.907284Z",
     "iopub.status.idle": "2021-11-10T20:42:51.168011Z",
     "shell.execute_reply": "2021-11-10T20:42:51.168392Z"
    },
    "index": 30,
    "solution": true
   },
   "outputs": [
    {
     "data": {
      "image/png": "[encoded data removed]",
      "text/plain": [
       "<Figure size 1080x432 with 1 Axes>"
      ]
     },
     "metadata": {
      "needs_background": "light"
     },
     "output_type": "display_data"
    }
   ],
   "source": [
    "#==SOLUTION==\n",
    "plot_five_fig, plot_five_ax = plt.subplots(figsize=(15,6))\n",
    "\n",
    "sns.boxplot(x=\"Season\", y=\"Rating\", data=df, ax=plot_five_ax)\n",
    "plot_five_ax.set_title('Episode Duration - Grouped by Season', fontsize=20)\n",
    "plot_five_ax.set_xlabel('Season', fontsize=15)\n",
    "plot_five_ax.set_ylabel('Rating', fontsize=15)\n",
    "plot_five_ax.set_xticklabels([tick for tick in range(1, 11)], size=20)\n",
    "plot_five_fig.savefig('static/season_duration_boxplot.png')"
   ]
  },
  {
   "cell_type": "markdown",
   "id": "6269467c",
   "metadata": {
    "index": 31,
    "solution": false
   },
   "source": [
    "## Task 11 - Create a scatter plot\n",
    "\n",
    "In the cell below, plot the relationship between U.S. Viewers and ratings.\n",
    "\n",
    "➡️ **name the figure variable `plot_six_fig`**\n",
    "\n",
    "➡️ **name the axis variable `plot_six_ax`.**\n",
    "\n",
    "This visualization should have the following customizations:\n",
    "1. A title set to `'U.S. Viewers vs Ratings'`\n",
    "2. An xlabel set to `'U.S. Viewers'`\n",
    "3. A ylabel set to `'Ratings'`\n",
    "\n",
    "Below is an example of what your visualization should look like:\n",
    "\n",
    "![](static/viewers_vs_ratings.png)"
   ]
  },
  {
   "cell_type": "code",
   "execution_count": null,
   "id": "0e3e0a90",
   "metadata": {
    "index": 32,
    "solution": false
   },
   "outputs": [],
   "source": [
    "# Your code here"
   ]
  },
  {
   "cell_type": "code",
   "execution_count": 11,
   "id": "4142975b",
   "metadata": {
    "execution": {
     "iopub.execute_input": "2021-11-10T20:42:51.191073Z",
     "iopub.status.busy": "2021-11-10T20:42:51.190511Z",
     "iopub.status.idle": "2021-11-10T20:42:51.338756Z",
     "shell.execute_reply": "2021-11-10T20:42:51.338121Z"
    },
    "index": 33,
    "solution": true
   },
   "outputs": [
    {
     "data": {
      "image/png": "[encoded data removed]",
      "text/plain": [
       "<Figure size 720x288 with 1 Axes>"
      ]
     },
     "metadata": {
      "needs_background": "light"
     },
     "output_type": "display_data"
    }
   ],
   "source": [
    "#==SOLUTION==\n",
    "x = df['U.S. Viewers']\n",
    "y = df.Rating\n",
    "\n",
    "plot_six_fig, plot_six_ax = plt.subplots(figsize=(10,4))\n",
    "\n",
    "plot_six_ax.scatter(x, y)\n",
    "plot_six_ax.set_title('U.S. Viewers vs Ratings', fontsize=20)\n",
    "plot_six_ax.set_xlabel('U.S. Viewers', fontsize=15)\n",
    "plot_six_ax.set_ylabel('Ratings', fontsize=15)\n",
    "plot_six_fig.savefig('static/viewers_vs_ratings.png')"
   ]
  }
 ],
 "metadata": {
  "kernelspec": {
   "display_name": "Python 3 (ipykernel)",
   "language": "python",
   "name": "python3"
  },
  "language_info": {
   "codemirror_mode": {
    "name": "ipython",
    "version": 3
   },
   "file_extension": ".py",
   "mimetype": "text/x-python",
   "name": "python",
   "nbconvert_exporter": "python",
   "pygments_lexer": "ipython3",
   "version": "3.9.5"
  },
  "toc": {
   "base_numbering": 1,
   "nav_menu": {},
   "number_sections": false,
   "sideBar": true,
   "skip_h1_title": true,
   "title_cell": "Table of Contents",
   "title_sidebar": "Contents",
   "toc_cell": false,
   "toc_position": {},
   "toc_section_display": true,
   "toc_window_display": false
  },
  "varInspector": {
   "cols": {
    "lenName": 16,
    "lenType": 16,
    "lenVar": 40
   },
   "kernels_config": {
    "python": {
     "delete_cmd_postfix": "",
     "delete_cmd_prefix": "del ",
     "library": "var_list.py",
     "varRefreshCmd": "print(var_dic_list())"
    },
    "r": {
     "delete_cmd_postfix": ") ",
     "delete_cmd_prefix": "rm(",
     "library": "var_list.r",
     "varRefreshCmd": "cat(var_dic_list()) "
    }
   },
   "types_to_exclude": [
    "module",
    "function",
    "builtin_function_or_method",
    "instance",
    "_Feature"
   ],
   "window_display": false
  }
 },
 "nbformat": 4,
 "nbformat_minor": 5
}
