{
 "cells": [
  {
   "cell_type": "markdown",
   "id": "fc311bd1",
   "metadata": {},
   "source": [
    "# 📒 Data Visualization - Code Out\n",
    "\n",
    "This notebook contains **10 tasks** centered around **data visualization** using **matplotlib**📊. \n",
    "\n",
    "\n",
    "For each visualization, instructions are provided describing what customizations must be applied to the visualization in order to pass the provided tests. \n",
    "\n",
    "Within the instructions, a saved image of the visualization is displayed. **Your goal is to create a visualization that mirrors the displayed image.**\n",
    "> *Please note:* When developing data visualizations, there are frequently judgment calls that must be made about about a number of visual settings. The provided tests in this notebook will assess many of the matplotlib settings that were used to generate the displayed visualization, but not every setting is tested. **For this notebook, and any future assessments, you should be sure to meet the required instructions *exactly*.** Outside of those settings you are free to customize your visualizations however you feel is best.\n",
    "\n",
    "This notebook requires you use `plt.subplots` and that you assign matplotlib figure and axis variables to specific variable names.\n",
    "\n",
    "**For example:**\n",
    "\n",
    "Given the following prompt:\n",
    "\n",
    "\n",
    "\n",
    ">➡️**name the figure variable `plot_first_fig`**\n",
    "\n",
    ">➡️ **name the axis variable `plot_first_ax`.**\n",
    "\n",
    "\n",
    "The correct code would be as followed:\n",
    "\n",
    "```python\n",
    "plot_first_fig, plot_first_ax = plt.subplots()\n",
    "```"
   ]
  },
  {
   "cell_type": "markdown",
   "id": "35fcc796",
   "metadata": {},
   "source": [
    "*Notebook setup*"
   ]
  },
  {
   "cell_type": "code",
   "execution_count": 1,
   "id": "9758ab6d",
   "metadata": {
    "ExecuteTime": {
     "end_time": "2021-06-01T05:55:17.571987Z",
     "start_time": "2021-06-01T05:55:15.685186Z"
    }
   },
   "outputs": [
    {
     "name": "stdout",
     "output_type": "stream",
     "text": [
      "\u001b[33mWARNING: You are using pip version 21.1.1; however, version 21.1.2 is available.\r\n",
      "You should consider upgrading via the '/opt/anaconda3/bin/python -m pip install --upgrade pip' command.\u001b[0m\r\n"
     ]
    }
   ],
   "source": [
    "# Run this cell unchanged\n",
    "!pip install dscreate -q\n",
    "%config Completer.use_jedi = False\n",
    "from dscreate.tests import Tests\n",
    "tests = Tests()"
   ]
  },
  {
   "cell_type": "code",
   "execution_count": 2,
   "id": "c55a9411",
   "metadata": {
    "ExecuteTime": {
     "end_time": "2021-06-01T05:55:19.467836Z",
     "start_time": "2021-06-01T05:55:17.573535Z"
    }
   },
   "outputs": [
    {
     "name": "stdout",
     "output_type": "stream",
     "text": [
      "\u001b[33mWARNING: You are using pip version 21.1.1; however, version 21.1.2 is available.\r\n",
      "You should consider upgrading via the '/opt/anaconda3/bin/python -m pip install --upgrade pip' command.\u001b[0m\r\n"
     ]
    }
   ],
   "source": [
    "#__SOLUTION__\n",
    "# Run this cell unchanged\n",
    "!pip install dscreate -q\n",
    "%config Completer.use_jedi = False\n",
    "from dscreate.tests import Tests\n",
    "tests = Tests()"
   ]
  },
  {
   "cell_type": "markdown",
   "id": "ad571929",
   "metadata": {
    "ExecuteTime": {
     "end_time": "2021-05-31T23:21:45.541649Z",
     "start_time": "2021-05-31T23:21:45.539654Z"
    }
   },
   "source": [
    "## Task 1 - Import pandas using the standard alias."
   ]
  },
  {
   "cell_type": "code",
   "execution_count": 3,
   "id": "47180a13",
   "metadata": {
    "ExecuteTime": {
     "end_time": "2021-06-01T05:55:19.472128Z",
     "start_time": "2021-06-01T05:55:19.469806Z"
    }
   },
   "outputs": [],
   "source": [
    "# Your code here"
   ]
  },
  {
   "cell_type": "code",
   "execution_count": 4,
   "id": "e008b2b9",
   "metadata": {
    "ExecuteTime": {
     "end_time": "2021-06-01T05:55:19.949344Z",
     "start_time": "2021-06-01T05:55:19.473760Z"
    }
   },
   "outputs": [],
   "source": [
    "#__SOLUTION__\n",
    "import pandas as pd"
   ]
  },
  {
   "cell_type": "markdown",
   "id": "2a05859b",
   "metadata": {},
   "source": [
    "## Task 2 - Import the pyplot module from matplotlib using the standard `plt` alias."
   ]
  },
  {
   "cell_type": "code",
   "execution_count": 5,
   "id": "93543307",
   "metadata": {
    "ExecuteTime": {
     "end_time": "2021-06-01T05:55:19.952943Z",
     "start_time": "2021-06-01T05:55:19.950868Z"
    }
   },
   "outputs": [],
   "source": [
    "# Your code here"
   ]
  },
  {
   "cell_type": "code",
   "execution_count": 6,
   "id": "87e626bd",
   "metadata": {
    "ExecuteTime": {
     "end_time": "2021-06-01T05:55:20.131751Z",
     "start_time": "2021-06-01T05:55:19.954379Z"
    }
   },
   "outputs": [],
   "source": [
    "#__SOLUTION__\n",
    "import matplotlib.pyplot as plt"
   ]
  },
  {
   "cell_type": "markdown",
   "id": "3a1dfee6",
   "metadata": {},
   "source": [
    "## Task 3 - Load a csv file\n",
    "\n",
    "A dataset called `friends_info.csv` containing information about the tv show [Friends](https://en.wikipedia.org/wiki/Friends) is saved inside the `data/` folder of this repository.\n",
    "\n",
    "In the cell below:\n",
    "- import the `friends_info` dataset using pandas\n",
    "- save the resulting pandas dataframe to the variable `df`."
   ]
  },
  {
   "cell_type": "code",
   "execution_count": 7,
   "id": "d622cc9b",
   "metadata": {
    "ExecuteTime": {
     "end_time": "2021-06-01T05:55:20.134704Z",
     "start_time": "2021-06-01T05:55:20.132940Z"
    }
   },
   "outputs": [],
   "source": [
    "# Your code here"
   ]
  },
  {
   "cell_type": "code",
   "execution_count": 8,
   "id": "8566a453",
   "metadata": {
    "ExecuteTime": {
     "end_time": "2021-06-01T05:55:20.142735Z",
     "start_time": "2021-06-01T05:55:20.136699Z"
    }
   },
   "outputs": [],
   "source": [
    "#__SOLUTION__\n",
    "df = pd.read_csv('data/friends_info.csv')"
   ]
  },
  {
   "cell_type": "markdown",
   "id": "cfe673d4",
   "metadata": {},
   "source": [
    "## Task 4 - Drop all rows that contain null values"
   ]
  },
  {
   "cell_type": "code",
   "execution_count": 9,
   "id": "a1f7f280",
   "metadata": {
    "ExecuteTime": {
     "end_time": "2021-06-01T05:55:20.146703Z",
     "start_time": "2021-06-01T05:55:20.144801Z"
    }
   },
   "outputs": [],
   "source": [
    "# Your code here"
   ]
  },
  {
   "cell_type": "code",
   "execution_count": 10,
   "id": "d67675a4",
   "metadata": {
    "ExecuteTime": {
     "end_time": "2021-06-01T05:55:20.156966Z",
     "start_time": "2021-06-01T05:55:20.148013Z"
    }
   },
   "outputs": [],
   "source": [
    "#__SOLUTION__\n",
    "df.dropna(inplace=True)"
   ]
  },
  {
   "cell_type": "markdown",
   "id": "615ff96b",
   "metadata": {},
   "source": [
    "## Task 5 - Using `plt.subplots` create a bar plot that visualizes the total number of episodes produced for each season. \n",
    "\n",
    "➡️ **name the figure variable `plot_one_fig`**\n",
    "\n",
    "➡️ **name the axis variable `plot_one_ax`.**\n",
    "\n",
    "\n",
    "This visualization should include the following customizations:\n",
    "1. A figsize of (15, 6)\n",
    "2. A title set to `'Episodes per Season'` with a fontsize of 30.\n",
    "3. xtick labels with a fontsize of 20.\n",
    "4. An xaxis label set to `'Season'` with a fontsize of 15.\n",
    "5. A yaxis label set to `'Episode Count'` with a fontsize of 15.\n",
    "\n",
    "\n",
    "**Below is an example of what your visualization should look like:**\n",
    "\n",
    "![](static/episodes_per_season.png)"
   ]
  },
  {
   "cell_type": "code",
   "execution_count": 11,
   "id": "4a08b255",
   "metadata": {
    "ExecuteTime": {
     "end_time": "2021-06-01T05:55:20.159851Z",
     "start_time": "2021-06-01T05:55:20.158060Z"
    }
   },
   "outputs": [],
   "source": [
    "# Your code here"
   ]
  },
  {
   "cell_type": "code",
   "execution_count": 12,
   "id": "fba73cc4",
   "metadata": {
    "ExecuteTime": {
     "end_time": "2021-06-01T05:55:20.341005Z",
     "start_time": "2021-06-01T05:55:20.161474Z"
    },
    "code_folding": [
     14
    ]
   },
   "outputs": [
    {
     "name": "stderr",
     "output_type": "stream",
     "text": [
      "/opt/anaconda3/lib/python3.7/site-packages/ipykernel_launcher.py:10: UserWarning: FixedFormatter should only be used together with FixedLocator\n",
      "  # Remove the CWD from sys.path while we load stuff.\n"
     ]
    },
    {
     "data": {
      "image/png": "[encoded data removed]",
      "text/plain": [
       "<Figure size 1080x432 with 1 Axes>"
      ]
     },
     "metadata": {
      "needs_background": "light"
     },
     "output_type": "display_data"
    }
   ],
   "source": [
    "#__SOLUTION__\n",
    "season_counts = df.Season.value_counts()\n",
    "x = season_counts.index.astype(str)\n",
    "y = season_counts.values\n",
    "\n",
    "\n",
    "plot_one_fig, plot_one_ax = plt.subplots(figsize=(15,6))\n",
    "plot_one_ax.bar(x, y)\n",
    "plot_one_ax.set_title('Episodes per Season', size=30)\n",
    "plot_one_ax.set_xticklabels([tick for tick in x], size=20)\n",
    "plot_one_ax.set_xlabel('Season', size=15)\n",
    "plot_one_ax.set_ylabel('Episode Count', size=15)\n",
    "plot_one_fig.savefig('static/episodes_per_season.png')\n",
    "\n",
    "class EpisodesPerSeason:\n",
    "    def __init__(self, answer):\n",
    "        self.fig = answer[0]\n",
    "        self.ax = answer[1]\n",
    "        self.width = 15\n",
    "        self.height = 6\n",
    "        self.title = 'Episodes per Season'\n",
    "        self.xlabel = 'Season'\n",
    "        self.ylabel = 'Episode Count'\n",
    "        self.xticklabels = ['3', '1', '2', '4', '5', '6', '7', '8', '9', '10']\n",
    "        self.xtick_size = 20\n",
    "        self.xlabel_size = 15\n",
    "        self.ylabel_size = 15\n",
    "        \n",
    "    def test_width(self, output=True):\n",
    "        if self.fig.get_figwidth() == self.width:\n",
    "            return '✅ Visualization width is set correctly'\n",
    "        else:\n",
    "            f'🚫 Visualization height = {self.fig.get_figwidth()} but should be {self.width}'\n",
    "    def test_height(self, output=True):\n",
    "        if self.fig.get_figheight() == self.height:\n",
    "            return '✅ Visualization height is set correctly'\n",
    "        else:\n",
    "            return f'🚫 Visualization height = {self.fig.get_figheight()} but should be {self.height}'\n",
    "            \n",
    "    \n",
    "    def test_title(self, output = True):\n",
    "        if self.ax.title.get_text() == self.title:\n",
    "            return '✅ title is set correctly'\n",
    "        else:\n",
    "            return f'🚫 title = \"{self.ax.title.get_text()}\" but should be \"{self.title}\"'\n",
    "    \n",
    "    def test_xlabel(self, output=True):\n",
    "        if self.ax.get_xlabel() == self.xlabel:\n",
    "            return '✅ xlabel is set correctly'\n",
    "        else:\n",
    "            return f'🚫 xlabel = \"{self.ax.get_xlabel()}\" but should be \"{self.xlabel}\"'\n",
    "        \n",
    "    def test_ylabel(self, output=True):\n",
    "        if self.ax.get_ylabel() == self.ylabel:\n",
    "            return '✅ xlabel is set correctly'\n",
    "        else:\n",
    "            return f'🚫 xlabel = \"{self.ax.get_ylabel()}\" but should be \"{self.ylabel}\"'   \n",
    "        \n",
    "tests.save(EpisodesPerSeason, 'EpisodesPerSeason')      "
   ]
  },
  {
   "cell_type": "code",
   "execution_count": 13,
   "id": "b3359fda",
   "metadata": {
    "ExecuteTime": {
     "end_time": "2021-06-01T05:55:20.349962Z",
     "start_time": "2021-06-01T05:55:20.342044Z"
    }
   },
   "outputs": [
    {
     "data": {
      "text/markdown": [
       "**test_width:** ✅ Visualization width is set correctly"
      ],
      "text/plain": [
       "<IPython.core.display.Markdown object>"
      ]
     },
     "metadata": {},
     "output_type": "display_data"
    },
    {
     "data": {
      "text/markdown": [
       "**test_height:** ✅ Visualization height is set correctly"
      ],
      "text/plain": [
       "<IPython.core.display.Markdown object>"
      ]
     },
     "metadata": {},
     "output_type": "display_data"
    },
    {
     "data": {
      "text/markdown": [
       "**test_title:** ✅ title is set correctly"
      ],
      "text/plain": [
       "<IPython.core.display.Markdown object>"
      ]
     },
     "metadata": {},
     "output_type": "display_data"
    },
    {
     "data": {
      "text/markdown": [
       "**test_xlabel:** ✅ xlabel is set correctly"
      ],
      "text/plain": [
       "<IPython.core.display.Markdown object>"
      ]
     },
     "metadata": {},
     "output_type": "display_data"
    },
    {
     "data": {
      "text/markdown": [
       "**test_ylabel:** ✅ xlabel is set correctly"
      ],
      "text/plain": [
       "<IPython.core.display.Markdown object>"
      ]
     },
     "metadata": {},
     "output_type": "display_data"
    }
   ],
   "source": [
    "tests.run('EpisodesPerSeason', (plot_one_fig, plot_one_ax))"
   ]
  },
  {
   "cell_type": "code",
   "execution_count": 14,
   "id": "46506f61",
   "metadata": {
    "ExecuteTime": {
     "end_time": "2021-06-01T05:55:20.358477Z",
     "start_time": "2021-06-01T05:55:20.351673Z"
    }
   },
   "outputs": [
    {
     "data": {
      "text/markdown": [
       "**test_width:** ✅ Visualization width is set correctly"
      ],
      "text/plain": [
       "<IPython.core.display.Markdown object>"
      ]
     },
     "metadata": {},
     "output_type": "display_data"
    },
    {
     "data": {
      "text/markdown": [
       "**test_height:** ✅ Visualization height is set correctly"
      ],
      "text/plain": [
       "<IPython.core.display.Markdown object>"
      ]
     },
     "metadata": {},
     "output_type": "display_data"
    },
    {
     "data": {
      "text/markdown": [
       "**test_title:** ✅ title is set correctly"
      ],
      "text/plain": [
       "<IPython.core.display.Markdown object>"
      ]
     },
     "metadata": {},
     "output_type": "display_data"
    },
    {
     "data": {
      "text/markdown": [
       "**test_xlabel:** ✅ xlabel is set correctly"
      ],
      "text/plain": [
       "<IPython.core.display.Markdown object>"
      ]
     },
     "metadata": {},
     "output_type": "display_data"
    },
    {
     "data": {
      "text/markdown": [
       "**test_ylabel:** ✅ xlabel is set correctly"
      ],
      "text/plain": [
       "<IPython.core.display.Markdown object>"
      ]
     },
     "metadata": {},
     "output_type": "display_data"
    }
   ],
   "source": [
    "#__SOLUTION__\n",
    "tests.run('EpisodesPerSeason', (plot_one_fig, plot_one_ax))"
   ]
  },
  {
   "cell_type": "markdown",
   "id": "f008f471",
   "metadata": {},
   "source": [
    "## Task 6 - Using `plt.subplots` visualize the number of episodes produced by the ten most frequent directors.\n",
    "\n",
    "➡️ **name the figure variable `plot_two_fig`**\n",
    "\n",
    "➡️ **name the axis variable `plot_two_ax`.**\n",
    "\n",
    "This visualization should include the following customizations:\n",
    "\n",
    "1. A title set to `'Top Ten Directors - Frequency'` with a fontsize of 35.\n",
    "2. An xlabel set to `'Directors'` with a fontsize of 15.\n",
    "3. A ylabel set to `'Number of films directed'` with a fontsize of 15.\n",
    "4. For each xtick label, the spaces `' '` should replace with `'\\n'`.\n",
    "\n",
    "**Below is an example of what your visualization should look like:**\n",
    "\n",
    "![](static/director_frequency.png)"
   ]
  },
  {
   "cell_type": "code",
   "execution_count": 15,
   "id": "f831ae9f",
   "metadata": {
    "ExecuteTime": {
     "end_time": "2021-06-01T05:55:20.361459Z",
     "start_time": "2021-06-01T05:55:20.359535Z"
    }
   },
   "outputs": [],
   "source": [
    "# Your code here"
   ]
  },
  {
   "cell_type": "code",
   "execution_count": 16,
   "id": "e07cfb34",
   "metadata": {
    "ExecuteTime": {
     "end_time": "2021-06-01T05:55:20.605502Z",
     "start_time": "2021-06-01T05:55:20.362598Z"
    },
    "code_folding": [
     15
    ]
   },
   "outputs": [
    {
     "name": "stderr",
     "output_type": "stream",
     "text": [
      "/opt/anaconda3/lib/python3.7/site-packages/ipykernel_launcher.py:8: UserWarning: FixedFormatter should only be used together with FixedLocator\n",
      "  \n"
     ]
    },
    {
     "data": {
      "image/png": "[encoded data removed]",
      "text/plain": [
       "<Figure size 1440x432 with 1 Axes>"
      ]
     },
     "metadata": {
      "needs_background": "light"
     },
     "output_type": "display_data"
    }
   ],
   "source": [
    "#__SOLUTION__\n",
    "director_counts = df['Directed By'].value_counts()[:10]\n",
    "x = director_counts.index\n",
    "y = director_counts.values\n",
    "\n",
    "plot_two_fig, plot_two_ax = plt.subplots(figsize=(20,6))\n",
    "plot_two_ax.bar(x, y)\n",
    "plot_two_ax.set_xticklabels([tick.replace(' ', '\\n') for tick in x], size=20)\n",
    "plot_two_ax.set_title('Top Ten Directors - Frequency', size=35)\n",
    "plot_two_ax.set_xlabel('Directors', size=15)\n",
    "plot_two_ax.set_ylabel('Number of films directed', size=15)\n",
    "plot_two_fig.savefig('static/director_frequency.png')\n",
    "plt.show()\n",
    "\n",
    "## Tests\n",
    "class DirectorFrequency:\n",
    "    def __init__(self, answer):\n",
    "        self.answer = answer\n",
    "        self.title = 'Top Ten Directors - Frequency'\n",
    "        self.title_fontsize = 35\n",
    "        self.xtick_labels =    ['Gary\\nHalvorson',\n",
    "                                 'Kevin\\nS.\\nBright',\n",
    "                                 'Michael\\nLembeck',\n",
    "                                 'James\\nBurrows',\n",
    "                                 'Gail\\nMancuso',\n",
    "                                 'Peter\\nBonerz',\n",
    "                                 'Ben\\nWeiss',\n",
    "                                 'David\\nSchwimmer',\n",
    "                                 'Robby\\nBenson',\n",
    "                                 'Shelley\\nJensen']\n",
    "        self.xlabel = 'Directors'\n",
    "        self.ylabel = 'Number of films directed'\n",
    "        \n",
    "        \n",
    "        \n",
    "    def test_title(self, output=True):\n",
    "        correct_title = self.title\n",
    "        if self.answer.title.get_text() == correct_title:\n",
    "            return '✅ The title was set correctly.'\n",
    "        else:\n",
    "            return f'🚫 The title = \"{self.answer.title.get_text()}\" but should be \"{correct_title}\"\\n\\n(Double spaces are not correctly rendered by this error message)'\n",
    "        \n",
    "    def test_title_font_size(self):\n",
    "        return self.answer.title.get_fontsize() == self.title_fontsize\n",
    "    \n",
    "    def test_xtick_labels(self, output=True):\n",
    "        labels = [_.get_text() for _ in self.answer.get_xticklabels()]\n",
    "        \n",
    "        # Check if labels are equal to expected output\n",
    "        if labels == self.xtick_labels:\n",
    "            return '✅ xtick labels are set correctly.'\n",
    "        # Check if label spaces were not replaced with new lines\n",
    "        elif labels == [x.replace('\\n', ' ') for x in self.xtick_labels]:\n",
    "            return '🚫 For each xtick label, every word should have it\\'s own line!'\n",
    "        # A couple directors directed the same numbers of episodes\n",
    "        # and matplotlib seems to be ordering strings along the xaxis\n",
    "        # differently with each reset of the kernel\n",
    "        # The following code checks to ensure the directors with\n",
    "        # equal number of episodes are sorted correctly\n",
    "        elif labels[:6] == self.xtick_labels[:6]:\n",
    "            if ['Ben\\nWeiss', 'David\\nSchwimmer'] == sorted(self.xtick_labels[6:8]):\n",
    "                if ['Robby\\nBenson', 'Shelley\\nJensen'] == sorted(self.xtick_labels[8:]):\n",
    "                    return '✅ xtick labels are set correctly.'\n",
    "                else:\n",
    "                    return '🚫 The data is not sorted correctly.'\n",
    "            else:\n",
    "                return '🚫 The data is not sorted correctly.'\n",
    "        # If no equivilents are found, the data is likely calculated incorrectly.\n",
    "        else:\n",
    "            return f\"\"\"🚫 The xtick labels = {labels}, but should be {self.xtick_labels}\"\"\"\n",
    "        \n",
    "    def test_xlabel(self, output=True):\n",
    "        if self.answer.get_xlabel() == self.xlabel:\n",
    "            return '✅ xlabel is set correct correctly.'\n",
    "        else:\n",
    "            return f'🚫 xlabel = \"{self.answer.get_xlabel()}\" but should be \"{self.xlabel}\"'\n",
    "        \n",
    "    def test_ylabel(self, output=True):\n",
    "        if self.answer.get_ylabel() == self.ylabel:\n",
    "            return '✅ ylabel is set correct correctly.'\n",
    "        else:\n",
    "            return f'🚫 xlabel = \"{self.answer.get_ylabel()}\" but should be \"{self.ylabel}\"'\n",
    "            \n",
    "    def test_y_data(self):\n",
    "        return [self.answer.patches[i].get_height() for i in range(10)] == [54, 46, 22, 15, 14, \n",
    "                                                                            12, 10, 10, 6, 6]\n",
    "    \n",
    "tests.save(DirectorFrequency, 'DirectorFrequency')"
   ]
  },
  {
   "cell_type": "markdown",
   "id": "140c24c8",
   "metadata": {},
   "source": [
    "*Run the cell below to test your work*"
   ]
  },
  {
   "cell_type": "code",
   "execution_count": 18,
   "id": "9f366756",
   "metadata": {
    "ExecuteTime": {
     "end_time": "2021-06-01T05:55:20.617665Z",
     "start_time": "2021-06-01T05:55:20.610755Z"
    }
   },
   "outputs": [
    {
     "data": {
      "text/markdown": [
       "**test_title:** ✅ The title was set correctly."
      ],
      "text/plain": [
       "<IPython.core.display.Markdown object>"
      ]
     },
     "metadata": {},
     "output_type": "display_data"
    },
    {
     "data": {
      "text/markdown": [
       "**test_title_font_size:** ✅"
      ],
      "text/plain": [
       "<IPython.core.display.Markdown object>"
      ]
     },
     "metadata": {},
     "output_type": "display_data"
    },
    {
     "data": {
      "text/markdown": [
       "**test_xtick_labels:** ✅ xtick labels are set correctly."
      ],
      "text/plain": [
       "<IPython.core.display.Markdown object>"
      ]
     },
     "metadata": {},
     "output_type": "display_data"
    },
    {
     "data": {
      "text/markdown": [
       "**test_xlabel:** ✅ xlabel is set correct correctly."
      ],
      "text/plain": [
       "<IPython.core.display.Markdown object>"
      ]
     },
     "metadata": {},
     "output_type": "display_data"
    },
    {
     "data": {
      "text/markdown": [
       "**test_ylabel:** ✅ ylabel is set correct correctly."
      ],
      "text/plain": [
       "<IPython.core.display.Markdown object>"
      ]
     },
     "metadata": {},
     "output_type": "display_data"
    },
    {
     "data": {
      "text/markdown": [
       "**test_y_data:** ✅"
      ],
      "text/plain": [
       "<IPython.core.display.Markdown object>"
      ]
     },
     "metadata": {},
     "output_type": "display_data"
    }
   ],
   "source": [
    "tests.run('DirectorFrequency', plot_two_ax)"
   ]
  },
  {
   "cell_type": "code",
   "execution_count": 19,
   "id": "7ed02465",
   "metadata": {
    "ExecuteTime": {
     "end_time": "2021-06-01T05:55:20.625145Z",
     "start_time": "2021-06-01T05:55:20.618735Z"
    }
   },
   "outputs": [
    {
     "data": {
      "text/markdown": [
       "**test_title:** ✅ The title was set correctly."
      ],
      "text/plain": [
       "<IPython.core.display.Markdown object>"
      ]
     },
     "metadata": {},
     "output_type": "display_data"
    },
    {
     "data": {
      "text/markdown": [
       "**test_title_font_size:** ✅"
      ],
      "text/plain": [
       "<IPython.core.display.Markdown object>"
      ]
     },
     "metadata": {},
     "output_type": "display_data"
    },
    {
     "data": {
      "text/markdown": [
       "**test_xtick_labels:** ✅ xtick labels are set correctly."
      ],
      "text/plain": [
       "<IPython.core.display.Markdown object>"
      ]
     },
     "metadata": {},
     "output_type": "display_data"
    },
    {
     "data": {
      "text/markdown": [
       "**test_xlabel:** ✅ xlabel is set correct correctly."
      ],
      "text/plain": [
       "<IPython.core.display.Markdown object>"
      ]
     },
     "metadata": {},
     "output_type": "display_data"
    },
    {
     "data": {
      "text/markdown": [
       "**test_ylabel:** ✅ ylabel is set correct correctly."
      ],
      "text/plain": [
       "<IPython.core.display.Markdown object>"
      ]
     },
     "metadata": {},
     "output_type": "display_data"
    },
    {
     "data": {
      "text/markdown": [
       "**test_y_data:** ✅"
      ],
      "text/plain": [
       "<IPython.core.display.Markdown object>"
      ]
     },
     "metadata": {},
     "output_type": "display_data"
    }
   ],
   "source": [
    "#__SOLUTION__\n",
    "tests.run('DirectorFrequency', plot_two_ax)"
   ]
  },
  {
   "cell_type": "markdown",
   "id": "3771fe5e",
   "metadata": {},
   "source": [
    "## Task 7 - Plot a histogram for the `Rating` column.\n",
    "\n",
    "➡️ **name the figure variable `plot_three_fig`**\n",
    "\n",
    "➡️ **name the axis variable `plot_three_ax`.**\n",
    "\n",
    "This visualization should include the following customizations:\n",
    "1. The figsize should be set to (10,5)\n",
    "2. The title should be set to `'Episode Ratings - Distribution'`\n",
    "3. The xlabel should be set to `'Rating'`\n",
    "4. The ylabel should be set to `'Frequency'`\n",
    "5. The color should be set to `'red'`\n",
    "6. The alpha should be set to `.6`\n",
    "\n",
    "Below is an example of what your visualization should look like:\n",
    "\n",
    "![](static/ratings_distribution.png)"
   ]
  },
  {
   "cell_type": "code",
   "execution_count": null,
   "id": "d049750c",
   "metadata": {
    "ExecuteTime": {
     "end_time": "2021-06-01T05:55:20.761970Z",
     "start_time": "2021-06-01T05:55:20.626275Z"
    }
   },
   "outputs": [],
   "source": [
    "# Your code here"
   ]
  },
  {
   "cell_type": "code",
   "execution_count": 21,
   "id": "0c243744",
   "metadata": {
    "ExecuteTime": {
     "end_time": "2021-06-01T05:55:20.959381Z",
     "start_time": "2021-06-01T05:55:20.763531Z"
    },
    "code_folding": [],
    "scrolled": false
   },
   "outputs": [
    {
     "data": {
      "image/png": "[encoded data removed]",
      "text/plain": [
       "<Figure size 720x360 with 1 Axes>"
      ]
     },
     "metadata": {
      "needs_background": "light"
     },
     "output_type": "display_data"
    }
   ],
   "source": [
    "#__SOLUTION__\n",
    "\n",
    "# Isolate the data\n",
    "x = df.Rating\n",
    "\n",
    "# Create the fig, ax objects\n",
    "plot_three_fig, plot_three_ax = plt.subplots(figsize=(10,5))\n",
    "\n",
    "# Plot the data\n",
    "plot_three_ax.hist(x, color='red', alpha = .6)\n",
    "\n",
    "# title\n",
    "plot_three_ax.set_title('Episode Ratings - Distribution')\n",
    "\n",
    "# xlabel\n",
    "plot_three_ax.set_xlabel('Rating')\n",
    "\n",
    "# ylabel\n",
    "plot_three_ax.set_ylabel('Frequency')\n",
    "\n",
    "# Save the visualization\n",
    "plt.savefig('static/ratings_distribution.png')\n",
    "\n",
    "## Tests\n",
    "class EpisodeRatings:\n",
    "    \n",
    "    \"\"\"\n",
    "    Receives:\n",
    "    \n",
    "        - Tuple: (Visualization_Figure, Visualization_Ax)\n",
    "    \n",
    "    Tests the following:\n",
    "    \n",
    "        - The title is set to 'Episode Ratings - Distribution'\n",
    "        - The width is set to 10\n",
    "        - The height is set to 5\n",
    "        - The xlabel is set to 'Rating'\n",
    "        - The ylabel is set to 'Frequency'\n",
    "        - The color is set to red ie. (1.0, 0.0, 0.0)\n",
    "        - The alpha is set to .6\n",
    "        \n",
    "    \"\"\"\n",
    "    def __init__(self, fig_and_ax):\n",
    "        self.fig = fig_and_ax[0]\n",
    "        self.ax = fig_and_ax[1]\n",
    "        self.width = 10\n",
    "        self.height = 5\n",
    "        self.title = 'Episode Ratings - Distribution'\n",
    "        self.xlabel = 'Rating'\n",
    "        self.ylabel = 'Frequency'\n",
    "        self.color = (1.0, 0.0, 0.0)\n",
    "        self.alpha = .6\n",
    "        \n",
    "        \n",
    "        \n",
    "    def test_width(self, output=True):\n",
    "        if self.fig.get_figwidth() == self.width:\n",
    "            return '✅ Visualization width is set correctly'\n",
    "        else:\n",
    "            f'🚫 Visualization height = {self.fig.get_figwidth()} but should be {self.width}'\n",
    "            \n",
    "    def test_height(self, output=True):\n",
    "        if self.fig.get_figheight() == self.height:\n",
    "            return '✅ Visualization height is set correctly'\n",
    "        else:\n",
    "            return f'🚫 Visualization height = {self.fig.get_figheight()} but should be {self.height}'\n",
    "            \n",
    "    \n",
    "    def test_title(self, output = True):\n",
    "        if self.ax.title.get_text() == self.title:\n",
    "            return '✅ title is set correctly'\n",
    "        else:\n",
    "            return f'🚫 title = {self.ax.title.get_text()} but should be {self.title}'\n",
    "    \n",
    "    def test_xlabel(self, output=True):\n",
    "        if self.ax.get_xlabel() == self.xlabel:\n",
    "            return '✅ xlabel is set correctly'\n",
    "        else:\n",
    "            return f'🚫 xlabel = {self.ax.get_xlabel()} but should be {self.xlabel}'\n",
    "        \n",
    "    def test_ylabel(self, output=True):\n",
    "        if self.ax.get_ylabel() == self.ylabel:\n",
    "            return '✅ xlabel is set correctly'\n",
    "        else:\n",
    "            return f'🚫 xlabel = {self.ax.get_ylabel()} but should be {self.ylabel}' \n",
    "        \n",
    "    def test_color(self):\n",
    "        bar = self.get_first_bar(self)\n",
    "        color = bar.get_facecolor()[:-1]\n",
    "        return color == self.color\n",
    "    \n",
    "    def test_alpha(self):\n",
    "        bar = self.get_first_bar(self)\n",
    "        alpha = bar.get_facecolor()[-1]\n",
    "        return alpha == self.alpha\n",
    "        \n",
    "    def get_first_bar(self):\n",
    "        container = self.ax.containers[0]\n",
    "        first_bar = container.get_children()[0]\n",
    "        return first_bar\n",
    "        \n",
    "tests.save(EpisodeRatings, 'EpisodeRatings')"
   ]
  },
  {
   "cell_type": "markdown",
   "id": "d92efe1f",
   "metadata": {
    "ExecuteTime": {
     "end_time": "2021-06-01T03:59:28.048679Z",
     "start_time": "2021-06-01T03:59:28.038838Z"
    }
   },
   "source": [
    "*Run the cell below to test your work*"
   ]
  },
  {
   "cell_type": "code",
   "execution_count": 22,
   "id": "f06b7ad6",
   "metadata": {
    "ExecuteTime": {
     "end_time": "2021-06-01T05:55:20.969036Z",
     "start_time": "2021-06-01T05:55:20.960282Z"
    }
   },
   "outputs": [
    {
     "data": {
      "text/markdown": [
       "**test_width:** ✅ Visualization width is set correctly"
      ],
      "text/plain": [
       "<IPython.core.display.Markdown object>"
      ]
     },
     "metadata": {},
     "output_type": "display_data"
    },
    {
     "data": {
      "text/markdown": [
       "**test_height:** ✅ Visualization height is set correctly"
      ],
      "text/plain": [
       "<IPython.core.display.Markdown object>"
      ]
     },
     "metadata": {},
     "output_type": "display_data"
    },
    {
     "data": {
      "text/markdown": [
       "**test_title:** ✅ title is set correctly"
      ],
      "text/plain": [
       "<IPython.core.display.Markdown object>"
      ]
     },
     "metadata": {},
     "output_type": "display_data"
    },
    {
     "data": {
      "text/markdown": [
       "**test_xlabel:** ✅ xlabel is set correctly"
      ],
      "text/plain": [
       "<IPython.core.display.Markdown object>"
      ]
     },
     "metadata": {},
     "output_type": "display_data"
    },
    {
     "data": {
      "text/markdown": [
       "**test_ylabel:** ✅ xlabel is set correctly"
      ],
      "text/plain": [
       "<IPython.core.display.Markdown object>"
      ]
     },
     "metadata": {},
     "output_type": "display_data"
    },
    {
     "data": {
      "text/markdown": [
       "**test_color:** ✅"
      ],
      "text/plain": [
       "<IPython.core.display.Markdown object>"
      ]
     },
     "metadata": {},
     "output_type": "display_data"
    },
    {
     "data": {
      "text/markdown": [
       "**test_alpha:** ✅"
      ],
      "text/plain": [
       "<IPython.core.display.Markdown object>"
      ]
     },
     "metadata": {},
     "output_type": "display_data"
    }
   ],
   "source": [
    "tests.run('EpisodeRatings', (plot_three_fig, plot_three_ax))"
   ]
  },
  {
   "cell_type": "code",
   "execution_count": 23,
   "id": "d97b5fc7",
   "metadata": {
    "ExecuteTime": {
     "end_time": "2021-06-01T05:55:20.981486Z",
     "start_time": "2021-06-01T05:55:20.971281Z"
    }
   },
   "outputs": [
    {
     "data": {
      "text/markdown": [
       "**test_width:** ✅ Visualization width is set correctly"
      ],
      "text/plain": [
       "<IPython.core.display.Markdown object>"
      ]
     },
     "metadata": {},
     "output_type": "display_data"
    },
    {
     "data": {
      "text/markdown": [
       "**test_height:** ✅ Visualization height is set correctly"
      ],
      "text/plain": [
       "<IPython.core.display.Markdown object>"
      ]
     },
     "metadata": {},
     "output_type": "display_data"
    },
    {
     "data": {
      "text/markdown": [
       "**test_title:** ✅ title is set correctly"
      ],
      "text/plain": [
       "<IPython.core.display.Markdown object>"
      ]
     },
     "metadata": {},
     "output_type": "display_data"
    },
    {
     "data": {
      "text/markdown": [
       "**test_xlabel:** ✅ xlabel is set correctly"
      ],
      "text/plain": [
       "<IPython.core.display.Markdown object>"
      ]
     },
     "metadata": {},
     "output_type": "display_data"
    },
    {
     "data": {
      "text/markdown": [
       "**test_ylabel:** ✅ xlabel is set correctly"
      ],
      "text/plain": [
       "<IPython.core.display.Markdown object>"
      ]
     },
     "metadata": {},
     "output_type": "display_data"
    },
    {
     "data": {
      "text/markdown": [
       "**test_color:** ✅"
      ],
      "text/plain": [
       "<IPython.core.display.Markdown object>"
      ]
     },
     "metadata": {},
     "output_type": "display_data"
    },
    {
     "data": {
      "text/markdown": [
       "**test_alpha:** ✅"
      ],
      "text/plain": [
       "<IPython.core.display.Markdown object>"
      ]
     },
     "metadata": {},
     "output_type": "display_data"
    }
   ],
   "source": [
    "#__SOLUTION__\n",
    "tests.run('EpisodeRatings', (plot_three_fig, plot_three_ax))"
   ]
  },
  {
   "cell_type": "markdown",
   "id": "dab769d9",
   "metadata": {},
   "source": [
    "## Task 8 - Visualize the average episode duration per year. \n",
    "> Because this is a time based visualization, a line plot is typically best.\n",
    "\n",
    "➡️ **name the figure variable `plot_four_fig`**\n",
    "\n",
    "➡️ **name the axis variable `plot_four_ax`.**\n",
    "\n",
    "This visualization should include the following customizations:\n",
    "1. The linewidth should be set to `5`.\n",
    "2. The linestyle should be set to `--`.\n",
    "3. The color should be set to `'green'`.\n",
    "4. The title should be set to `'Average Duration - Per Year'`\n",
    "5. The xlabel should be set to `'Year'`.\n",
    "6. The ylabel should be set to `'Average Duration'`\n",
    "\n",
    "**Hint:** You will need to use a groupby for this problem!\n",
    "\n",
    "Below is an example of what your visualization should look like:\n",
    "\n",
    " \n",
    "![](static/yearly_duration.png)"
   ]
  },
  {
   "cell_type": "code",
   "execution_count": 24,
   "id": "1dd0c9de",
   "metadata": {
    "ExecuteTime": {
     "end_time": "2021-06-01T05:55:20.984766Z",
     "start_time": "2021-06-01T05:55:20.982544Z"
    }
   },
   "outputs": [],
   "source": [
    "# Your code here"
   ]
  },
  {
   "cell_type": "code",
   "execution_count": 48,
   "id": "a90d03bf",
   "metadata": {
    "ExecuteTime": {
     "end_time": "2021-06-01T15:06:03.234532Z",
     "start_time": "2021-06-01T15:06:03.075156Z"
    }
   },
   "outputs": [
    {
     "data": {
      "image/png": "[encoded data removed]",
      "text/plain": [
       "<Figure size 1080x288 with 1 Axes>"
      ]
     },
     "metadata": {
      "needs_background": "light"
     },
     "output_type": "display_data"
    }
   ],
   "source": [
    "#__SOLUTION__\n",
    "plot_four_fig, plot_four_ax = plt.subplots(figsize=(15,4))\n",
    "\n",
    "duration = df.groupby('Year').mean()['Duration']\n",
    "\n",
    "x = duration.index\n",
    "y = duration.values\n",
    "\n",
    "plot_four_ax.plot(x, y, linewidth=5, linestyle='--', color='green')\n",
    "plot_four_ax.grid()\n",
    "plot_four_ax.set_title('Average Duration - Per Year', fontsize=20)\n",
    "plot_four_ax.set_xlabel('Year', fontsize=15)\n",
    "plot_four_ax.set_ylabel('Average Duration', fontsize=15)\n",
    "plot_four_fig.savefig('static/yearly_duration.png')"
   ]
  },
  {
   "cell_type": "code",
   "execution_count": 49,
   "id": "d018adba",
   "metadata": {
    "ExecuteTime": {
     "end_time": "2021-06-01T15:06:04.138303Z",
     "start_time": "2021-06-01T15:06:04.128733Z"
    }
   },
   "outputs": [],
   "source": [
    "class YearlyDuration:\n",
    "    def __init__(self, ax):\n",
    "        self.ax = ax\n",
    "        self.title = 'Average Duration - Per Year'\n",
    "        self.linewidth = 5\n",
    "        self.linestyle = '--'\n",
    "        self.xlabel = 'Year'\n",
    "        self.ylabel = 'Average Duration'\n",
    "        self.color = 'green'\n",
    "        \n",
    "    def test_title(self, output = True):\n",
    "        if self.ax.title.get_text() == self.title:\n",
    "            return '✅ title is set correctly'\n",
    "        else:\n",
    "            return f'🚫 title = {self.ax.title.get_text()} but should be {self.title}'\n",
    "        \n",
    "    \n",
    "    def test_xlabel(self, output=True):\n",
    "        if self.ax.get_xlabel() == self.xlabel:\n",
    "            return '✅ xlabel is set correctly'\n",
    "        else:\n",
    "            return f'🚫 xlabel = {self.ax.get_xlabel()} but should be {self.xlabel}'\n",
    "        \n",
    "    def test_ylabel(self, output=True):\n",
    "        if self.ax.get_ylabel() == self.ylabel:\n",
    "            return '✅ xlabel is set correctly'\n",
    "        else:\n",
    "            return f'🚫 xlabel = {self.ax.get_ylabel()} but should be {self.ylabel}' \n",
    "        \n",
    "    def test_color(self, output=True):\n",
    "        line_generator = self.ax.get_lines()\n",
    "        line = list(line_generator)[0]\n",
    "        color = line.get_c()\n",
    "        if color == self.color:\n",
    "            return '✅ color is set correctly'\n",
    "        else:\n",
    "            return f'🚫 color = {color} but should be {self.color}' \n",
    "        \n",
    "    def test_line_style(self, output=True):\n",
    "        line_generator = self.ax.get_lines()\n",
    "        line = list(line_generator)[0]\n",
    "        linestyle = line.get_linestyle()\n",
    "        if linestyle == self.linestyle:\n",
    "            return '✅ linestyle is set correctly'\n",
    "        else:\n",
    "            return f'🚫 linestyle = {linestyle} but should be {self.linestyle}' \n",
    "        \n",
    "    def test_line_width(self, output=True):\n",
    "        line_generator = self.ax.get_lines()\n",
    "        line = list(line_generator)[0]\n",
    "        linewidth = line.get_linewidth()\n",
    "        if linewidth == self.linewidth:\n",
    "            return '✅ linewidth is set correctly'\n",
    "        else:\n",
    "            return f'🚫 linewidth = {linewidth} but should be {self.linewidth}' \n",
    "        \n",
    "tests.save(YearlyDuration, 'YearlyDuration')"
   ]
  },
  {
   "cell_type": "code",
   "execution_count": 50,
   "id": "aef2c596",
   "metadata": {
    "ExecuteTime": {
     "end_time": "2021-06-01T15:06:04.695971Z",
     "start_time": "2021-06-01T15:06:04.687214Z"
    }
   },
   "outputs": [
    {
     "data": {
      "text/markdown": [
       "**test_title:** ✅ title is set correctly"
      ],
      "text/plain": [
       "<IPython.core.display.Markdown object>"
      ]
     },
     "metadata": {},
     "output_type": "display_data"
    },
    {
     "data": {
      "text/markdown": [
       "**test_xlabel:** ✅ xlabel is set correctly"
      ],
      "text/plain": [
       "<IPython.core.display.Markdown object>"
      ]
     },
     "metadata": {},
     "output_type": "display_data"
    },
    {
     "data": {
      "text/markdown": [
       "**test_ylabel:** ✅ xlabel is set correctly"
      ],
      "text/plain": [
       "<IPython.core.display.Markdown object>"
      ]
     },
     "metadata": {},
     "output_type": "display_data"
    },
    {
     "data": {
      "text/markdown": [
       "**test_color:** ✅ color is set correctly"
      ],
      "text/plain": [
       "<IPython.core.display.Markdown object>"
      ]
     },
     "metadata": {},
     "output_type": "display_data"
    },
    {
     "data": {
      "text/markdown": [
       "**test_line_style:** ✅ linestyle is set correctly"
      ],
      "text/plain": [
       "<IPython.core.display.Markdown object>"
      ]
     },
     "metadata": {},
     "output_type": "display_data"
    },
    {
     "data": {
      "text/markdown": [
       "**test_line_width:** ✅ linewidth is set correctly"
      ],
      "text/plain": [
       "<IPython.core.display.Markdown object>"
      ]
     },
     "metadata": {},
     "output_type": "display_data"
    }
   ],
   "source": [
    "tests.run('YearlyDuration', plot_four_ax)"
   ]
  },
  {
   "cell_type": "markdown",
   "id": "35bbde38",
   "metadata": {},
   "source": [
    "## Task 9 - Import Seaborn using the standard `sns` alias."
   ]
  },
  {
   "cell_type": "code",
   "execution_count": 26,
   "id": "a42a52b0",
   "metadata": {
    "ExecuteTime": {
     "end_time": "2021-06-01T05:55:21.154953Z",
     "start_time": "2021-06-01T05:55:21.153120Z"
    }
   },
   "outputs": [],
   "source": [
    "# Your code here"
   ]
  },
  {
   "cell_type": "code",
   "execution_count": 27,
   "id": "fe9532ae",
   "metadata": {
    "ExecuteTime": {
     "end_time": "2021-06-01T05:55:21.414655Z",
     "start_time": "2021-06-01T05:55:21.156157Z"
    }
   },
   "outputs": [],
   "source": [
    "#__SOLUTION__\n",
    "import seaborn as sns"
   ]
  },
  {
   "cell_type": "markdown",
   "id": "f67fd78d",
   "metadata": {},
   "source": [
    "## Task 10 - Using seaborn's [`boxplot`](https://seaborn.pydata.org/generated/seaborn.boxplot.html), visualize the box plots for each season's Duration. \n",
    "\n",
    "➡️ **name the figure variable `plot_five_fig`**\n",
    "\n",
    "➡️ **name the axis variable `plot_five_ax`.**\n",
    "\n",
    "Below is an example of what your visualization should look like:\n",
    "\n",
    "![](static/season_duration_boxplot.png)"
   ]
  },
  {
   "cell_type": "code",
   "execution_count": 28,
   "id": "b51e33ab",
   "metadata": {
    "ExecuteTime": {
     "end_time": "2021-06-01T05:55:21.417555Z",
     "start_time": "2021-06-01T05:55:21.415860Z"
    }
   },
   "outputs": [],
   "source": [
    "# Your code here"
   ]
  },
  {
   "cell_type": "code",
   "execution_count": 51,
   "id": "310fd8fe",
   "metadata": {
    "ExecuteTime": {
     "end_time": "2021-06-01T15:09:01.782423Z",
     "start_time": "2021-06-01T15:09:01.544076Z"
    }
   },
   "outputs": [
    {
     "data": {
      "image/png": "[encoded data removed]",
      "text/plain": [
       "<Figure size 1080x432 with 1 Axes>"
      ]
     },
     "metadata": {
      "needs_background": "light"
     },
     "output_type": "display_data"
    }
   ],
   "source": [
    "#__SOLUTION__\n",
    "plot_five_fig, plot_five_ax = plt.subplots(figsize=(15,6))\n",
    "\n",
    "sns.boxplot(x=\"Season\", y=\"Rating\", data=df, ax=plot_five_ax)\n",
    "plot_five_ax.set_title('Episode Duration - Grouped by Season', fontsize=20)\n",
    "plot_five_ax.set_xlabel('Season', fontsize=15)\n",
    "plot_five_ax.set_ylabel('Rating', fontsize=15)\n",
    "plot_five_ax.set_xticklabels([tick for tick in range(1, 11)], size=20)\n",
    "plot_five_fig.savefig('static/season_duration_boxplot.png')"
   ]
  },
  {
   "cell_type": "code",
   "execution_count": 77,
   "id": "082d72e0",
   "metadata": {
    "ExecuteTime": {
     "end_time": "2021-06-01T16:00:17.957400Z",
     "start_time": "2021-06-01T16:00:17.952836Z"
    }
   },
   "outputs": [],
   "source": [
    "class SeasonRatings:\n",
    "    def __init__(self, ax):\n",
    "        self.ax = ax\n",
    "        self.title = 'Episode Duration - Grouped by Season'\n",
    "        self.xlabel = 'Season'\n",
    "        self.ylabel = 'Rating'\n",
    "        \n",
    "    def test_title(self, output = True):\n",
    "        if self.ax.title.get_text() == self.title:\n",
    "            return '✅ title is set correctly'\n",
    "        else:\n",
    "            return f'🚫 title = {self.ax.title.get_text()} but should be {self.title}'\n",
    "        \n",
    "    \n",
    "    def test_xlabel(self, output=True):\n",
    "        if self.ax.get_xlabel() == self.xlabel:\n",
    "            return '✅ xlabel is set correctly'\n",
    "        else:\n",
    "            return f'🚫 xlabel = {self.ax.get_xlabel()} but should be {self.xlabel}'\n",
    "        \n",
    "    def test_ylabel(self, output=True):\n",
    "        if self.ax.get_ylabel() == self.ylabel:\n",
    "            return '✅ xlabel is set correctly'\n",
    "        else:\n",
    "            return f'🚫 xlabel = {self.ax.get_ylabel()} but should be {self.ylabel}' \n",
    "\n",
    "        \n",
    "tests.save(SeasonRatings, 'SeasonRatings')"
   ]
  },
  {
   "cell_type": "code",
   "execution_count": 78,
   "id": "1907243b",
   "metadata": {
    "ExecuteTime": {
     "end_time": "2021-06-01T16:00:18.579173Z",
     "start_time": "2021-06-01T16:00:18.573430Z"
    }
   },
   "outputs": [
    {
     "data": {
      "text/markdown": [
       "**test_title:** ✅ title is set correctly"
      ],
      "text/plain": [
       "<IPython.core.display.Markdown object>"
      ]
     },
     "metadata": {},
     "output_type": "display_data"
    },
    {
     "data": {
      "text/markdown": [
       "**test_xlabel:** ✅ xlabel is set correctly"
      ],
      "text/plain": [
       "<IPython.core.display.Markdown object>"
      ]
     },
     "metadata": {},
     "output_type": "display_data"
    },
    {
     "data": {
      "text/markdown": [
       "**test_ylabel:** ✅ xlabel is set correctly"
      ],
      "text/plain": [
       "<IPython.core.display.Markdown object>"
      ]
     },
     "metadata": {},
     "output_type": "display_data"
    }
   ],
   "source": [
    "tests.run('SeasonRatings', plot_five_ax)"
   ]
  }
 ],
 "metadata": {
  "kernelspec": {
   "display_name": "Python 3",
   "language": "python",
   "name": "python3"
  },
  "language_info": {
   "codemirror_mode": {
    "name": "ipython",
    "version": 3
   },
   "file_extension": ".py",
   "mimetype": "text/x-python",
   "name": "python",
   "nbconvert_exporter": "python",
   "pygments_lexer": "ipython3",
   "version": "3.7.4"
  },
  "toc": {
   "base_numbering": 1,
   "nav_menu": {},
   "number_sections": false,
   "sideBar": true,
   "skip_h1_title": false,
   "title_cell": "Table of Contents",
   "title_sidebar": "Contents",
   "toc_cell": false,
   "toc_position": {},
   "toc_section_display": true,
   "toc_window_display": false
  }
 },
 "nbformat": 4,
 "nbformat_minor": 5
}
